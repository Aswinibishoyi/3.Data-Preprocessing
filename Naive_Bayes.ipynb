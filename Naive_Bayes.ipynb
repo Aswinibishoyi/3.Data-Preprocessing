{
  "nbformat": 4,
  "nbformat_minor": 0,
  "metadata": {
    "colab": {
      "name": "Naive_Bayes.ipynb",
      "provenance": [],
      "authorship_tag": "ABX9TyPG/AZWWT0ytXrncYF9giW1",
      "include_colab_link": true
    },
    "kernelspec": {
      "name": "python3",
      "display_name": "Python 3"
    }
  },
  "cells": [
    {
      "cell_type": "markdown",
      "metadata": {
        "id": "view-in-github",
        "colab_type": "text"
      },
      "source": [
        "<a href=\"https://colab.research.google.com/github/Aswinibishoyi/3.Data-Preprocessing/blob/master/Naive_Bayes.ipynb\" target=\"_parent\"><img src=\"https://colab.research.google.com/assets/colab-badge.svg\" alt=\"Open In Colab\"/></a>"
      ]
    },
    {
      "cell_type": "markdown",
      "metadata": {
        "id": "xcnZ-k1PM_WV",
        "colab_type": "text"
      },
      "source": [
        ""
      ]
    },
    {
      "cell_type": "code",
      "metadata": {
        "id": "Gd61ouf3NCXK",
        "colab_type": "code",
        "colab": {
          "base_uri": "https://localhost:8080/",
          "height": 127
        },
        "outputId": "8d715836-a236-4b99-8475-34cfe8c6e7fd"
      },
      "source": [
        "# summarize probability distributions of the dataset\n",
        "from sklearn.datasets import make_blobs\n",
        "from scipy.stats import norm\n",
        "from numpy import mean\n",
        "from numpy import std\n",
        "\n",
        "# fit a probability distribution to a univariate data sample\n",
        "def fit_distribution(data):\n",
        "\t# estimate parameters\n",
        "\tmu = mean(data)\n",
        "\tsigma = std(data)\n",
        "\tprint(mu, sigma)\n",
        "\t# fit distribution\n",
        "\tdist = norm(mu, sigma)\n",
        "\treturn dist\n",
        "\n",
        "# generate 2d classification dataset\n",
        "X, y = make_blobs(n_samples=100, centers=2, n_features=2, random_state=1)\n",
        "# sort data into classes\n",
        "Xy0 = X[y == 0]\n",
        "Xy1 = X[y == 1]\n",
        "print(Xy0.shape, Xy1.shape)\n",
        "# calculate priors\n",
        "priory0 = len(Xy0) / len(X)\n",
        "priory1 = len(Xy1) / len(X)\n",
        "print(priory0, priory1)\n",
        "# create PDFs for y==0\n",
        "X1y0 = fit_distribution(Xy0[:, 0])\n",
        "X2y0 = fit_distribution(Xy0[:, 1])\n",
        "# create PDFs for y==1\n",
        "X1y1 = fit_distribution(Xy1[:, 0])\n",
        "X2y1 = fit_distribution(Xy1[:, 1])"
      ],
      "execution_count": 1,
      "outputs": [
        {
          "output_type": "stream",
          "text": [
            "(50, 2) (50, 2)\n",
            "0.5 0.5\n",
            "-1.5632888906409914 0.787444265443213\n",
            "4.426680361487157 0.958296071258367\n",
            "-9.681177100524485 0.8943078901048118\n",
            "-3.9713794295185845 0.9308177595208521\n"
          ],
          "name": "stdout"
        }
      ]
    },
    {
      "cell_type": "code",
      "metadata": {
        "id": "M_O4kdRwN6JF",
        "colab_type": "code",
        "colab": {}
      },
      "source": [
        "# example of preparing and making a prediction with a naive bayes model\n",
        "from sklearn.datasets import make_blobs\n",
        "from scipy.stats import norm\n",
        "from numpy import mean\n",
        "from numpy import std\n",
        "\n",
        "# fit a probability distribution to a univariate data sample\n",
        "def fit_distribution(data):\n",
        "\t# estimate parameters\n",
        "\tmu = mean(data)\n",
        "\tsigma = std(data)\n",
        "\tprint(mu, sigma)\n",
        "\t# fit distribution\n",
        "\tdist = norm(mu, sigma)\n",
        "\treturn dist\n",
        "\n",
        "# calculate the independent conditional probability\n",
        "def probability(X, prior, dist1, dist2):\n",
        "\treturn prior * dist1.pdf(X[0]) * dist2.pdf(X[1])\n",
        "\n",
        "# generate 2d classification dataset\n",
        "X, y = make_blobs(n_samples=100, centers=2, n_features=2, random_state=1)\n",
        "# sort data into classes\n",
        "Xy0 = X[y == 0]\n",
        "Xy1 = X[y == 1]\n",
        "# calculate priors\n",
        "priory0 = len(Xy0) / len(X)\n",
        "priory1 = len(Xy1) / len(X)\n",
        "# create PDFs for y==0\n",
        "distX1y0 = fit_distribution(Xy0[:, 0])\n",
        "distX2y0 = fit_distribution(Xy0[:, 1])\n",
        "# create PDFs for y==1\n",
        "distX1y1 = fit_distribution(Xy1[:, 0])\n",
        "distX2y1 = fit_distribution(Xy1[:, 1])\n",
        "# classify one example\n",
        "Xsample, ysample = X[0], y[0]\n",
        "py0 = probability(Xsample, priory0, distX1y0, distX2y0)\n",
        "py1 = probability(Xsample, priory1, distX1y1, distX2y1)\n",
        "print('P(y=0 | %s) = %.3f' % (Xsample, py0*100))\n",
        "print('P(y=1 | %s) = %.3f' % (Xsample, py1*100))\n",
        "print('Truth: y=%d' % ysample)"
      ],
      "execution_count": 0,
      "outputs": []
    },
    {
      "cell_type": "code",
      "metadata": {
        "id": "p-bVx-EXN8ot",
        "colab_type": "code",
        "colab": {
          "base_uri": "https://localhost:8080/",
          "height": 72
        },
        "outputId": "76a83b1e-a36f-4c11-95c1-e770a52d8e7d"
      },
      "source": [
        "# example of gaussian naive bayes\n",
        "from sklearn.datasets import make_blobs\n",
        "from sklearn.naive_bayes import GaussianNB\n",
        "# generate 2d classification dataset\n",
        "X, y = make_blobs(n_samples=100, centers=2, n_features=2, random_state=1)\n",
        "# define the model\n",
        "model = GaussianNB()\n",
        "# fit the model\n",
        "model.fit(X, y)\n",
        "# select a single sample\n",
        "Xsample, ysample = [X[0]], y[0]\n",
        "# make a probabilistic prediction\n",
        "yhat_prob = model.predict_proba(Xsample)\n",
        "print('Predicted Probabilities: ', yhat_prob)\n",
        "# make a classification prediction\n",
        "yhat_class = model.predict(Xsample)\n",
        "print('Predicted Class: ', yhat_class)\n",
        "print('Truth: y=%d' % ysample)"
      ],
      "execution_count": 2,
      "outputs": [
        {
          "output_type": "stream",
          "text": [
            "Predicted Probabilities:  [[1.00000000e+00 5.52387327e-30]]\n",
            "Predicted Class:  [0]\n",
            "Truth: y=0\n"
          ],
          "name": "stdout"
        }
      ]
    },
    {
      "cell_type": "markdown",
      "metadata": {
        "id": "Y0VqfawTPWvE",
        "colab_type": "text"
      },
      "source": [
        "Golden Rules when using Naive_Bayes\n",
        "1.Use a KDE for Complex Distributions\n",
        "2.Decreased Performance With Increasing Variable Dependence\n",
        "3.Avoid Numerical Underflow with Log\n",
        "4.Update Probability Distributions\n",
        "5.Use as a Generative Model"
      ]
    }
  ]
}