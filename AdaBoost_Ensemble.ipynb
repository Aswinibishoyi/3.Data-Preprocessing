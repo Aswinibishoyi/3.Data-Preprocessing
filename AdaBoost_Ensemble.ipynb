{
  "nbformat": 4,
  "nbformat_minor": 0,
  "metadata": {
    "colab": {
      "name": "AdaBoost Ensemble.ipynb",
      "provenance": [],
      "authorship_tag": "ABX9TyMUxfDdUn1pHY2hnkzIL+5E",
      "include_colab_link": true
    },
    "kernelspec": {
      "name": "python3",
      "display_name": "Python 3"
    },
    "accelerator": "TPU"
  },
  "cells": [
    {
      "cell_type": "markdown",
      "metadata": {
        "id": "view-in-github",
        "colab_type": "text"
      },
      "source": [
        "<a href=\"https://colab.research.google.com/github/Aswinibishoyi/3.Data-Preprocessing/blob/master/AdaBoost_Ensemble.ipynb\" target=\"_parent\"><img src=\"https://colab.research.google.com/assets/colab-badge.svg\" alt=\"Open In Colab\"/></a>"
      ]
    },
    {
      "cell_type": "markdown",
      "metadata": {
        "id": "D42MuxLit1td",
        "colab_type": "text"
      },
      "source": [
        "AdaBoost Ensemble"
      ]
    },
    {
      "cell_type": "code",
      "metadata": {
        "id": "zLpvdSg6t5Cr",
        "colab_type": "code",
        "colab": {
          "base_uri": "https://localhost:8080/",
          "height": 35
        },
        "outputId": "f44c4dd4-995c-4e40-c569-2be14722ab01"
      },
      "source": [
        "# check scikit-learn version\n",
        "import sklearn\n",
        "print(sklearn.__version__)"
      ],
      "execution_count": 1,
      "outputs": [
        {
          "output_type": "stream",
          "text": [
            "0.22.2.post1\n"
          ],
          "name": "stdout"
        }
      ]
    },
    {
      "cell_type": "markdown",
      "metadata": {
        "id": "xS1pd4RpuIcl",
        "colab_type": "text"
      },
      "source": [
        "AdaBoost Scikit-Learn API"
      ]
    },
    {
      "cell_type": "markdown",
      "metadata": {
        "id": "_qee1oIDuK0c",
        "colab_type": "text"
      },
      "source": [
        "AdaBoost for Classification"
      ]
    },
    {
      "cell_type": "code",
      "metadata": {
        "id": "hytxR6X0t--E",
        "colab_type": "code",
        "colab": {
          "base_uri": "https://localhost:8080/",
          "height": 35
        },
        "outputId": "12e34efe-efba-4da9-c64d-d6433a672b51"
      },
      "source": [
        "# test classification dataset\n",
        "from sklearn.datasets import make_classification\n",
        "# define dataset\n",
        "X, y = make_classification(n_samples=1000, n_features=20, n_informative=15, n_redundant=5, random_state=6)\n",
        "# summarize the dataset\n",
        "print(X.shape, y.shape)"
      ],
      "execution_count": 2,
      "outputs": [
        {
          "output_type": "stream",
          "text": [
            "(1000, 20) (1000,)\n"
          ],
          "name": "stdout"
        }
      ]
    },
    {
      "cell_type": "markdown",
      "metadata": {
        "id": "JzH5TumxujHm",
        "colab_type": "text"
      },
      "source": [
        "evaluate the model using repeated stratified k-fold cross-validation, with three repeats and 10 folds"
      ]
    },
    {
      "cell_type": "code",
      "metadata": {
        "id": "mjQYytKEuW_c",
        "colab_type": "code",
        "colab": {
          "base_uri": "https://localhost:8080/",
          "height": 35
        },
        "outputId": "f59c07e2-d212-46a1-f763-5481a5061abf"
      },
      "source": [
        "# evaluate adaboost algorithm for classification\n",
        "from numpy import mean\n",
        "from numpy import std\n",
        "from sklearn.datasets import make_classification\n",
        "from sklearn.model_selection import cross_val_score\n",
        "from sklearn.model_selection import RepeatedStratifiedKFold\n",
        "from sklearn.ensemble import AdaBoostClassifier\n",
        "# define dataset\n",
        "X, y = make_classification(n_samples=1000, n_features=20, n_informative=15, n_redundant=5, random_state=6)\n",
        "# define the model\n",
        "model = AdaBoostClassifier()\n",
        "# evaluate the model\n",
        "cv = RepeatedStratifiedKFold(n_splits=10, n_repeats=3, random_state=1)\n",
        "n_scores = cross_val_score(model, X, y, scoring='accuracy', cv=cv, n_jobs=-1, error_score='raise')\n",
        "# report performance\n",
        "print('Accuracy: %.3f (%.3f)' % (mean(n_scores), std(n_scores)))"
      ],
      "execution_count": 3,
      "outputs": [
        {
          "output_type": "stream",
          "text": [
            "Accuracy: 0.806 (0.041)\n"
          ],
          "name": "stdout"
        }
      ]
    },
    {
      "cell_type": "markdown",
      "metadata": {
        "id": "ZMWAAQSGuz_b",
        "colab_type": "text"
      },
      "source": [
        "results may vary given the stochastic nature of the learning algorithm, if you repeate run couple of time"
      ]
    },
    {
      "cell_type": "markdown",
      "metadata": {
        "id": "bIaH7Dd4vCLV",
        "colab_type": "text"
      },
      "source": [
        "Use the AdaBoost model as a final model and make predictions for classification.\n",
        "First, the AdaBoost ensemble is fit on all available data, then the predict() function can be called to make predictions on new data.\n",
        "below demonstrates this on our binary classification dataset"
      ]
    },
    {
      "cell_type": "code",
      "metadata": {
        "id": "spJkR2Bjupd0",
        "colab_type": "code",
        "colab": {
          "base_uri": "https://localhost:8080/",
          "height": 35
        },
        "outputId": "1e69b4cd-551b-440a-c902-e5875d91052b"
      },
      "source": [
        "# make predictions using adaboost for classification\n",
        "from sklearn.datasets import make_classification\n",
        "from sklearn.ensemble import AdaBoostClassifier\n",
        "# define dataset\n",
        "X, y = make_classification(n_samples=1000, n_features=20, n_informative=15, n_redundant=5, random_state=6)\n",
        "# define the model\n",
        "model = AdaBoostClassifier()\n",
        "# fit the model on the whole dataset\n",
        "model.fit(X, y)\n",
        "# make a single prediction\n",
        "row = [[-3.47224758,1.95378146,0.04875169,-0.91592588,-3.54022468,1.96405547,-7.72564954,-2.64787168,-1.81726906,-1.67104974,2.33762043,-4.30273117,0.4839841,-1.28253034,-10.6704077,-0.7641103,-3.58493721,2.07283886,0.08385173,0.91461126]]\n",
        "yhat = model.predict(row)\n",
        "print('Predicted Class: %d' % yhat[0])"
      ],
      "execution_count": 4,
      "outputs": [
        {
          "output_type": "stream",
          "text": [
            "Predicted Class: 0\n"
          ],
          "name": "stdout"
        }
      ]
    },
    {
      "cell_type": "markdown",
      "metadata": {
        "id": "tSsgo111vpLj",
        "colab_type": "text"
      },
      "source": [
        "*AdaBoost for Regression*\n",
        "First, we can use the make_regression() function to create a synthetic regression problem with 1,000 examples and 20 input features"
      ]
    },
    {
      "cell_type": "code",
      "metadata": {
        "id": "tDXE9bfNvsS9",
        "colab_type": "code",
        "colab": {
          "base_uri": "https://localhost:8080/",
          "height": 35
        },
        "outputId": "0c5141d3-1b33-4410-fcdc-a1cf73cb75b4"
      },
      "source": [
        "# test regression dataset\n",
        "from sklearn.datasets import make_regression\n",
        "# define dataset\n",
        "X, y = make_regression(n_samples=1000, n_features=20, n_informative=15, noise=0.1, random_state=6)\n",
        "# summarize the dataset\n",
        "print(X.shape, y.shape)"
      ],
      "execution_count": 5,
      "outputs": [
        {
          "output_type": "stream",
          "text": [
            "(1000, 20) (1000,)\n"
          ],
          "name": "stdout"
        }
      ]
    },
    {
      "cell_type": "markdown",
      "metadata": {
        "id": "PeDpJo2xwL0w",
        "colab_type": "text"
      },
      "source": [
        "1. we will evaluate the model using repeated k-fold cross-validation, with three repeats and 10 folds.\n",
        "2. We will report the mean absolute error (MAE) of the model across all repeats and folds. The scikit-learn library makes the MAE negative so that it is maximized instead of minimized. This means that larger negative MAE are better and a perfect model has a MAE of 0"
      ]
    },
    {
      "cell_type": "markdown",
      "metadata": {
        "id": "yGSalPQBw3Gj",
        "colab_type": "text"
      },
      "source": [
        "1. Running the example reports the mean and standard deviation accuracy of the model.\n",
        "2. we can see the AdaBoost ensemble with default hyperparameters achieves a MAE of about 100."
      ]
    },
    {
      "cell_type": "code",
      "metadata": {
        "id": "lX_L-CEDwZRZ",
        "colab_type": "code",
        "colab": {
          "base_uri": "https://localhost:8080/",
          "height": 35
        },
        "outputId": "3350fce2-cef5-4440-9eb6-aaebbe4c677d"
      },
      "source": [
        "# evaluate adaboost ensemble for regression\n",
        "from numpy import mean\n",
        "from numpy import std\n",
        "from sklearn.datasets import make_regression\n",
        "from sklearn.model_selection import cross_val_score\n",
        "from sklearn.model_selection import RepeatedKFold\n",
        "from sklearn.ensemble import AdaBoostRegressor\n",
        "# define dataset\n",
        "X, y = make_regression(n_samples=1000, n_features=20, n_informative=15, noise=0.1, random_state=6)\n",
        "# define the model\n",
        "model = AdaBoostRegressor()\n",
        "# evaluate the model\n",
        "cv = RepeatedKFold(n_splits=10, n_repeats=3, random_state=1)\n",
        "n_scores = cross_val_score(model, X, y, scoring='neg_mean_absolute_error', cv=cv, n_jobs=-1, error_score='raise')\n",
        "# report performance\n",
        "print('MAE: %.3f (%.3f)' % (mean(n_scores), std(n_scores)))"
      ],
      "execution_count": 6,
      "outputs": [
        {
          "output_type": "stream",
          "text": [
            "MAE: -72.387 (4.360)\n"
          ],
          "name": "stdout"
        }
      ]
    },
    {
      "cell_type": "markdown",
      "metadata": {
        "id": "yoV7YYgywc8F",
        "colab_type": "text"
      },
      "source": [
        "use the AdaBoost model as a final model and make predictions for regression"
      ]
    },
    {
      "cell_type": "code",
      "metadata": {
        "id": "nslxsiK2xJHo",
        "colab_type": "code",
        "colab": {
          "base_uri": "https://localhost:8080/",
          "height": 35
        },
        "outputId": "0c56e36d-0b9e-4621-b74d-3e6959933907"
      },
      "source": [
        "# adaboost ensemble for making predictions for regression\n",
        "from sklearn.datasets import make_regression\n",
        "from sklearn.ensemble import AdaBoostRegressor\n",
        "# define dataset\n",
        "X, y = make_regression(n_samples=1000, n_features=20, n_informative=15, noise=0.1, random_state=6)\n",
        "# define the model\n",
        "model = AdaBoostRegressor()\n",
        "# fit the model on the whole dataset\n",
        "model.fit(X, y)\n",
        "# make a single prediction\n",
        "row = [[1.20871625,0.88440466,-0.9030013,-0.22687731,-0.82940077,-1.14410988,1.26554256,-0.2842871,1.43929072,0.74250241,0.34035501,0.45363034,0.1778756,-1.75252881,-1.33337384,-1.50337215,-0.45099008,0.46160133,0.58385557,-1.79936198]]\n",
        "yhat = model.predict(row)\n",
        "print('Prediction: %d' % yhat[0])"
      ],
      "execution_count": 7,
      "outputs": [
        {
          "output_type": "stream",
          "text": [
            "Prediction: -26\n"
          ],
          "name": "stdout"
        }
      ]
    },
    {
      "cell_type": "markdown",
      "metadata": {
        "id": "ENpysApgxWZm",
        "colab_type": "text"
      },
      "source": [
        "# AdaBoost **Hyperparameters**"
      ]
    },
    {
      "cell_type": "markdown",
      "metadata": {
        "id": "Mp5OaqGmxn8j",
        "colab_type": "text"
      },
      "source": [
        "# Explore Number of Trees"
      ]
    },
    {
      "cell_type": "markdown",
      "metadata": {
        "id": "Df55pIC6yViM",
        "colab_type": "text"
      },
      "source": [
        "An important hyperparameter for AdaBoost algorithm is the number of decision trees used in the ensemble.\n",
        "Each decision tree used in the ensemble is designed to be a weak learner. \n",
        "That is, it has skill over random prediction, but is not highly skillful. If one-level decision trees are used, they are called decision stumps.\n",
        "The number of trees added to the model must be high for the model to work well, often hundreds, if not thousands.\n",
        "The number of trees can be set via the “n_estimators” argument and defaults to 50.\n",
        "The example below explores the effect of the number of trees with values between 10 to 5,000."
      ]
    },
    {
      "cell_type": "markdown",
      "metadata": {
        "id": "zlLA4wFxyixj",
        "colab_type": "text"
      },
      "source": [
        "we can see that that performance improves on this dataset until about 50 trees and declines after that. This might be a sign of the ensemble overfitting the training dataset after additional trees are added"
      ]
    },
    {
      "cell_type": "code",
      "metadata": {
        "id": "KhMfXi0zxMcM",
        "colab_type": "code",
        "colab": {
          "base_uri": "https://localhost:8080/",
          "height": 378
        },
        "outputId": "fef2a85a-a8fe-4ac8-e9fd-f25eec11cb30"
      },
      "source": [
        "# explore adaboost ensemble number of trees effect on performance\n",
        "from numpy import mean\n",
        "from numpy import std\n",
        "from sklearn.datasets import make_classification\n",
        "from sklearn.model_selection import cross_val_score\n",
        "from sklearn.model_selection import RepeatedStratifiedKFold\n",
        "from sklearn.ensemble import AdaBoostClassifier\n",
        "from matplotlib import pyplot\n",
        "\n",
        "# get the dataset\n",
        "def get_dataset():\n",
        "\tX, y = make_classification(n_samples=1000, n_features=20, n_informative=15, n_redundant=5, random_state=6)\n",
        "\treturn X, y\n",
        "\n",
        "# get a list of models to evaluate\n",
        "def get_models():\n",
        "\tmodels = dict()\n",
        "\tmodels['10'] = AdaBoostClassifier(n_estimators=10)\n",
        "\tmodels['50'] = AdaBoostClassifier(n_estimators=50)\n",
        "\tmodels['100'] = AdaBoostClassifier(n_estimators=100)\n",
        "\tmodels['500'] = AdaBoostClassifier(n_estimators=500)\n",
        "\tmodels['1000'] = AdaBoostClassifier(n_estimators=1000)\n",
        "\tmodels['5000'] = AdaBoostClassifier(n_estimators=5000)\n",
        "\treturn models\n",
        "\n",
        "# evaluate a give model using cross-validation\n",
        "def evaluate_model(model):\n",
        "\tcv = RepeatedStratifiedKFold(n_splits=10, n_repeats=3, random_state=1)\n",
        "\tscores = cross_val_score(model, X, y, scoring='accuracy', cv=cv, n_jobs=-1, error_score='raise')\n",
        "\treturn scores\n",
        "\n",
        "# define dataset\n",
        "X, y = get_dataset()\n",
        "# get the models to evaluate\n",
        "models = get_models()\n",
        "# evaluate the models and store results\n",
        "results, names = list(), list()\n",
        "for name, model in models.items():\n",
        "\tscores = evaluate_model(model)\n",
        "\tresults.append(scores)\n",
        "\tnames.append(name)\n",
        "\tprint('>%s %.3f (%.3f)' % (name, mean(scores), std(scores)))\n",
        "# plot model performance for comparison\n",
        "pyplot.boxplot(results, labels=names, showmeans=True)\n",
        "pyplot.show()"
      ],
      "execution_count": 8,
      "outputs": [
        {
          "output_type": "stream",
          "text": [
            ">10 0.773 (0.039)\n",
            ">50 0.806 (0.041)\n",
            ">100 0.801 (0.032)\n",
            ">500 0.793 (0.028)\n",
            ">1000 0.791 (0.032)\n",
            ">5000 0.783 (0.031)\n"
          ],
          "name": "stdout"
        },
        {
          "output_type": "display_data",
          "data": {
            "image/png": "[encoded data removed]",
            "text/plain": [
              "<Figure size 432x288 with 1 Axes>"
            ]
          },
          "metadata": {
            "tags": [],
            "needs_background": "light"
          }
        }
      ]
    },
    {
      "cell_type": "markdown",
      "metadata": {
        "id": "JN1cq4QryTe0",
        "colab_type": "text"
      },
      "source": [
        "Explore Weak Learner"
      ]
    },
    {
      "cell_type": "markdown",
      "metadata": {
        "id": "LYcCJ9uQyuDd",
        "colab_type": "text"
      },
      "source": [
        "A decision tree with one level is used as the weak learner by default.\n",
        "\n",
        "We can make the models used in the ensemble less weak (more skillful) by increasing the depth of the decision tree.\n",
        "\n",
        "The example below explores the effect of increasing the depth of the DecisionTreeClassifier weak learner on the AdBoost ensemble."
      ]
    },
    {
      "cell_type": "markdown",
      "metadata": {
        "id": "d5BfnqShyuhL",
        "colab_type": "text"
      },
      "source": [
        "Running the example first reports the mean accuracy for each configured weak learner tree depth.\n",
        "\n",
        "In this case, we can see that as the depth of the decision trees is increased, the performance of the ensemble is also increased on this dataset."
      ]
    },
    {
      "cell_type": "markdown",
      "metadata": {
        "id": "3B-1qIvXzTBE",
        "colab_type": "text"
      },
      "source": [
        "Result"
      ]
    },
    {
      "cell_type": "markdown",
      "metadata": {
        "id": "uo5S8cCAzP7K",
        "colab_type": "text"
      },
      "source": [
        "whisker plot is created for the distribution of accuracy scores for each configured weak learner depth.\n",
        "\n",
        "We can see the general trend of model performance and weak learner depth."
      ]
    },
    {
      "cell_type": "code",
      "metadata": {
        "id": "JBoroV9wysqz",
        "colab_type": "code",
        "colab": {
          "base_uri": "https://localhost:8080/",
          "height": 449
        },
        "outputId": "3177d84c-8ad7-433c-9ad8-d6cf72a37587"
      },
      "source": [
        "# explore adaboost ensemble tree depth effect on performance\n",
        "from numpy import mean\n",
        "from numpy import std\n",
        "from sklearn.datasets import make_classification\n",
        "from sklearn.model_selection import cross_val_score\n",
        "from sklearn.model_selection import RepeatedStratifiedKFold\n",
        "from sklearn.ensemble import AdaBoostClassifier\n",
        "from sklearn.tree import DecisionTreeClassifier\n",
        "from matplotlib import pyplot\n",
        "\n",
        "# get the dataset\n",
        "def get_dataset():\n",
        "\tX, y = make_classification(n_samples=1000, n_features=20, n_informative=15, n_redundant=5, random_state=6)\n",
        "\treturn X, y\n",
        "\n",
        "# get a list of models to evaluate\n",
        "def get_models():\n",
        "\tmodels = dict()\n",
        "\tfor i in range(1,11):\n",
        "\t\tmodels[str(i)] = AdaBoostClassifier(base_estimator=DecisionTreeClassifier(max_depth=i))\n",
        "\treturn models\n",
        "\n",
        "# evaluate a give model using cross-validation\n",
        "def evaluate_model(model):\n",
        "\tcv = RepeatedStratifiedKFold(n_splits=10, n_repeats=3, random_state=1)\n",
        "\tscores = cross_val_score(model, X, y, scoring='accuracy', cv=cv, n_jobs=-1, error_score='raise')\n",
        "\treturn scores\n",
        "\n",
        "# define dataset\n",
        "X, y = get_dataset()\n",
        "# get the models to evaluate\n",
        "models = get_models()\n",
        "# evaluate the models and store results\n",
        "results, names = list(), list()\n",
        "for name, model in models.items():\n",
        "\tscores = evaluate_model(model)\n",
        "\tresults.append(scores)\n",
        "\tnames.append(name)\n",
        "\tprint('>%s %.3f (%.3f)' % (name, mean(scores), std(scores)))\n",
        "# plot model performance for comparison\n",
        "pyplot.boxplot(results, labels=names, showmeans=True)\n",
        "pyplot.show()"
      ],
      "execution_count": 9,
      "outputs": [
        {
          "output_type": "stream",
          "text": [
            ">1 0.806 (0.041)\n",
            ">2 0.863 (0.028)\n",
            ">3 0.869 (0.031)\n",
            ">4 0.890 (0.029)\n",
            ">5 0.901 (0.032)\n",
            ">6 0.922 (0.023)\n",
            ">7 0.924 (0.027)\n",
            ">8 0.926 (0.029)\n",
            ">9 0.936 (0.027)\n",
            ">10 0.926 (0.027)\n"
          ],
          "name": "stdout"
        },
        {
          "output_type": "display_data",
          "data": {
            "image/png": "[encoded data removed]",
            "text/plain": [
              "<Figure size 432x288 with 1 Axes>"
            ]
          },
          "metadata": {
            "tags": [],
            "needs_background": "light"
          }
        }
      ]
    },
    {
      "cell_type": "markdown",
      "metadata": {
        "id": "nswNSxDgzHij",
        "colab_type": "text"
      },
      "source": [
        "# Explore Learning Rate"
      ]
    },
    {
      "cell_type": "markdown",
      "metadata": {
        "id": "vWb9HaoKzHvC",
        "colab_type": "text"
      },
      "source": [
        "AdaBoost also supports a learning rate that controls the contribution of each model to the ensemble prediction.\n",
        "\n",
        "This is controlled by the “learning_rate” argument and by default is set to 1.0 or full contribution. Smaller or larger values might be appropriate depending on the number of models used in the ensemble. There is a balance between the contribution of the models and the number of trees in the ensemble.\n",
        "\n",
        "More trees may require a smaller learning rate; fewer trees may require a larger learning rate.\n",
        "\n",
        "The example below explores learning rate values between 0.1 and 2.0 in 0.1 increments."
      ]
    },
    {
      "cell_type": "markdown",
      "metadata": {
        "id": "qFitCCoIz0xb",
        "colab_type": "text"
      },
      "source": [
        "Result:\n",
        "Running the example first reports the mean accuracy for each configured learning rate\n",
        "We can see the general trend of decreasing model performance with a learning rate larger than 1.0 on this dataset.\n",
        "\n"
      ]
    },
    {
      "cell_type": "code",
      "metadata": {
        "id": "9_5sjyzcyoBC",
        "colab_type": "code",
        "colab": {
          "base_uri": "https://localhost:8080/",
          "height": 650
        },
        "outputId": "f2e5ff46-5e3d-4404-bfe7-cb7da13c365a"
      },
      "source": [
        "# explore adaboost ensemble learning rate effect on performance\n",
        "from numpy import mean\n",
        "from numpy import std\n",
        "from numpy import arange\n",
        "from sklearn.datasets import make_classification\n",
        "from sklearn.model_selection import cross_val_score\n",
        "from sklearn.model_selection import RepeatedStratifiedKFold\n",
        "from sklearn.ensemble import AdaBoostClassifier\n",
        "from matplotlib import pyplot\n",
        "\n",
        "# get the dataset\n",
        "def get_dataset():\n",
        "\tX, y = make_classification(n_samples=1000, n_features=20, n_informative=15, n_redundant=5, random_state=6)\n",
        "\treturn X, y\n",
        "\n",
        "# get a list of models to evaluate\n",
        "def get_models():\n",
        "\tmodels = dict()\n",
        "\tfor i in arange(0.1, 2.1, 0.1):\n",
        "\t\tkey = '%.3f' % i\n",
        "\t\tmodels[key] = AdaBoostClassifier(learning_rate=i)\n",
        "\treturn models\n",
        "\n",
        "# evaluate a give model using cross-validation\n",
        "def evaluate_model(model):\n",
        "\tcv = RepeatedStratifiedKFold(n_splits=10, n_repeats=3, random_state=1)\n",
        "\tscores = cross_val_score(model, X, y, scoring='accuracy', cv=cv, n_jobs=-1, error_score='raise')\n",
        "\treturn scores\n",
        "\n",
        "# define dataset\n",
        "X, y = get_dataset()\n",
        "# get the models to evaluate\n",
        "models = get_models()\n",
        "# evaluate the models and store results\n",
        "results, names = list(), list()\n",
        "for name, model in models.items():\n",
        "\tscores = evaluate_model(model)\n",
        "\tresults.append(scores)\n",
        "\tnames.append(name)\n",
        "\tprint('>%s %.3f (%.3f)' % (name, mean(scores), std(scores)))\n",
        "# plot model performance for comparison\n",
        "pyplot.boxplot(results, labels=names, showmeans=True)\n",
        "pyplot.xticks(rotation=45)\n",
        "pyplot.show()"
      ],
      "execution_count": 10,
      "outputs": [
        {
          "output_type": "stream",
          "text": [
            ">0.100 0.767 (0.049)\n",
            ">0.200 0.786 (0.042)\n",
            ">0.300 0.802 (0.040)\n",
            ">0.400 0.798 (0.037)\n",
            ">0.500 0.805 (0.042)\n",
            ">0.600 0.795 (0.031)\n",
            ">0.700 0.799 (0.035)\n",
            ">0.800 0.801 (0.033)\n",
            ">0.900 0.805 (0.032)\n",
            ">1.000 0.806 (0.041)\n",
            ">1.100 0.801 (0.037)\n",
            ">1.200 0.800 (0.030)\n",
            ">1.300 0.799 (0.041)\n",
            ">1.400 0.793 (0.041)\n",
            ">1.500 0.790 (0.040)\n",
            ">1.600 0.775 (0.034)\n",
            ">1.700 0.767 (0.054)\n",
            ">1.800 0.768 (0.040)\n",
            ">1.900 0.736 (0.047)\n",
            ">2.000 0.682 (0.048)\n"
          ],
          "name": "stdout"
        },
        {
          "output_type": "display_data",
          "data": {
            "image/png": "[encoded data removed]",
            "text/plain": [
              "<Figure size 432x288 with 1 Axes>"
            ]
          },
          "metadata": {
            "tags": [],
            "needs_background": "light"
          }
        }
      ]
    },
    {
      "cell_type": "markdown",
      "metadata": {
        "id": "FmUk7sWP0EG9",
        "colab_type": "text"
      },
      "source": [
        "Explore Alternate Algorithm\n",
        "The default algorithm used in the ensemble is a decision tree, although other algorithms can be used.The intent is to use very simple models, called weak learners. Also, the scikit-learn implementation requires that any models used must also support weighted samples, as they are how the ensemble is created by fitting models based on a weighted version of the training dataset.\n",
        "\n",
        "The base model can be specified via the “base_estimator” argument. The base model must also support predicting probabilities or probability-like scores in the case of classification. If the specified model does not support a weighted training dataset.\n",
        "\n",
        "Below example of a model that supports a weighted training is the logistic regression algorithm.\n",
        "\n",
        "Running the example reports the mean and standard deviation accuracy of the model. We can see that AdaBoost ensemble with a logistic regression weak model achieves a classification accuracy of about 79 percent on this test dataset."
      ]
    },
    {
      "cell_type": "code",
      "metadata": {
        "id": "4LAoW4WV05vb",
        "colab_type": "code",
        "colab": {
          "base_uri": "https://localhost:8080/",
          "height": 35
        },
        "outputId": "e3f07ffa-bb54-4422-efc9-a136d22ec4b8"
      },
      "source": [
        "# evaluate adaboost algorithm with logistic regression weak learner for classification\n",
        "from numpy import mean\n",
        "from numpy import std\n",
        "from sklearn.datasets import make_classification\n",
        "from sklearn.model_selection import cross_val_score\n",
        "from sklearn.model_selection import RepeatedStratifiedKFold\n",
        "from sklearn.ensemble import AdaBoostClassifier\n",
        "from sklearn.linear_model import LogisticRegression\n",
        "# define dataset\n",
        "X, y = make_classification(n_samples=1000, n_features=20, n_informative=15, n_redundant=5, random_state=6)\n",
        "# define the model\n",
        "model = AdaBoostClassifier(base_estimator=LogisticRegression())\n",
        "# evaluate the model\n",
        "cv = RepeatedStratifiedKFold(n_splits=10, n_repeats=3, random_state=1)\n",
        "n_scores = cross_val_score(model, X, y, scoring='accuracy', cv=cv, n_jobs=-1, error_score='raise')\n",
        "# report performance\n",
        "print('Accuracy: %.3f (%.3f)' % (mean(n_scores), std(n_scores)))"
      ],
      "execution_count": 11,
      "outputs": [
        {
          "output_type": "stream",
          "text": [
            "Accuracy: 0.794 (0.032)\n"
          ],
          "name": "stdout"
        }
      ]
    }
  ]
}