{
  "nbformat": 4,
  "nbformat_minor": 0,
  "metadata": {
    "colab": {
      "name": "Principal Component Analysis for Dimensionality Reduction in Python.ipynb",
      "provenance": [],
      "authorship_tag": "ABX9TyOF2HZ/0PF7rJbABMLbjn7z",
      "include_colab_link": true
    },
    "kernelspec": {
      "name": "python3",
      "display_name": "Python 3"
    }
  },
  "cells": [
    {
      "cell_type": "markdown",
      "metadata": {
        "id": "view-in-github",
        "colab_type": "text"
      },
      "source": [
        "<a href=\"https://colab.research.google.com/github/Aswinibishoyi/3.Data-Preprocessing/blob/master/Principal_Component_Analysis_for_Dimensionality_Reduction_in_Python.ipynb\" target=\"_parent\"><img src=\"https://colab.research.google.com/assets/colab-badge.svg\" alt=\"Open In Colab\"/></a>"
      ]
    },
    {
      "cell_type": "code",
      "metadata": {
        "id": "qCHPqvPWtm72",
        "colab_type": "code",
        "colab": {
          "base_uri": "https://localhost:8080/",
          "height": 638
        },
        "outputId": "ff1656c6-b3f1-422d-bf71-c266d37862d6"
      },
      "source": [
        "# compare pca number of components with logistic regression algorithm for classification\n",
        "from numpy import mean\n",
        "from numpy import std\n",
        "from sklearn.datasets import make_classification\n",
        "from sklearn.model_selection import cross_val_score\n",
        "from sklearn.model_selection import RepeatedStratifiedKFold\n",
        "from sklearn.pipeline import Pipeline\n",
        "from sklearn.decomposition import PCA\n",
        "from sklearn.linear_model import LogisticRegression\n",
        "from matplotlib import pyplot\n",
        "\n",
        "# get the dataset\n",
        "def get_dataset():\n",
        "\tX, y = make_classification(n_samples=1000, n_features=20, n_informative=15, n_redundant=5, random_state=7)\n",
        "\treturn X, y\n",
        "\n",
        "# get a list of models to evaluate\n",
        "def get_models():\n",
        "\tmodels = dict()\n",
        "\tfor i in range(1,21):\n",
        "\t\tsteps = [('pca', PCA(n_components=i)), ('m', LogisticRegression())]\n",
        "\t\tmodels[str(i)] = Pipeline(steps=steps)\n",
        "\treturn models\n",
        "\n",
        "# evaluate a given model using cross-validation\n",
        "def evaluate_model(model):\n",
        "\tcv = RepeatedStratifiedKFold(n_splits=10, n_repeats=3, random_state=1)\n",
        "\tscores = cross_val_score(model, X, y, scoring='accuracy', cv=cv, n_jobs=-1, error_score='raise')\n",
        "\treturn scores\n",
        "\n",
        "# define dataset\n",
        "X, y = get_dataset()\n",
        "# get the models to evaluate\n",
        "models = get_models()\n",
        "# evaluate the models and store results\n",
        "results, names = list(), list()\n",
        "for name, model in models.items():\n",
        "\tscores = evaluate_model(model)\n",
        "\tresults.append(scores)\n",
        "\tnames.append(name)\n",
        "\tprint('>%s %.3f (%.3f)' % (name, mean(scores), std(scores)))\n",
        "# plot model performance for comparison\n",
        "pyplot.boxplot(results, labels=names, showmeans=True)\n",
        "pyplot.xticks(rotation=45)\n",
        "pyplot.show()"
      ],
      "execution_count": 1,
      "outputs": [
        {
          "output_type": "stream",
          "text": [
            ">1 0.542 (0.048)\n",
            ">2 0.713 (0.048)\n",
            ">3 0.720 (0.053)\n",
            ">4 0.723 (0.051)\n",
            ">5 0.725 (0.052)\n",
            ">6 0.730 (0.046)\n",
            ">7 0.805 (0.036)\n",
            ">8 0.800 (0.037)\n",
            ">9 0.814 (0.036)\n",
            ">10 0.816 (0.034)\n",
            ">11 0.819 (0.035)\n",
            ">12 0.819 (0.038)\n",
            ">13 0.819 (0.035)\n",
            ">14 0.853 (0.029)\n",
            ">15 0.865 (0.027)\n",
            ">16 0.865 (0.027)\n",
            ">17 0.865 (0.027)\n",
            ">18 0.865 (0.027)\n",
            ">19 0.865 (0.027)\n",
            ">20 0.865 (0.027)\n"
          ],
          "name": "stdout"
        },
        {
          "output_type": "display_data",
          "data": {
            "image/png": "[encoded data removed]",
            "text/plain": [
              "<Figure size 432x288 with 1 Axes>"
            ]
          },
          "metadata": {
            "tags": [],
            "needs_background": "light"
          }
        }
      ]
    }
  ]
}